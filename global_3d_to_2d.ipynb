{
 "cells": [
  {
   "cell_type": "markdown",
   "metadata": {},
   "source": [
    "### Dynamic model: global specification"
   ]
  },
  {
   "cell_type": "code",
   "execution_count": 3,
   "metadata": {},
   "outputs": [],
   "source": [
    "# Importing libraries\n",
    "import numpy as np\n",
    "import matplotlib.pyplot as plt\n",
    "import seaborn as sns; sns.set_style('darkgrid')\n",
    "\n",
    "from ipywidgets import interact\n",
    "import ipywidgets as widgets"
   ]
  },
  {
   "cell_type": "code",
   "execution_count": 4,
   "metadata": {},
   "outputs": [],
   "source": [
    "# Loading data\n",
    "ax1 = np.load('Data/ax1.npy')\n",
    "ax2 = np.load('Data/ax2.npy')\n",
    "ax3 = np.load('Data/ax3.npy')\n",
    "pred_surf = np.load('Data/pred_surf.npy')\n",
    "quant05 = np.load('Data/quant_05.npy')\n",
    "quant95 = np.load('Data/quant_95.npy')"
   ]
  },
  {
   "cell_type": "code",
   "execution_count": 5,
   "metadata": {},
   "outputs": [
    {
     "data": {
      "application/vnd.jupyter.widget-view+json": {
       "model_id": "bf23b8592c1347d0898242b02e599e6b",
       "version_major": 2,
       "version_minor": 0
      },
      "text/plain": [
       "interactive(children=(IntSlider(value=2018, description='year', max=2018, min=1960), Output()), _dom_classes=(…"
      ]
     },
     "metadata": {},
     "output_type": "display_data"
    }
   ],
   "source": [
    "def plot(year):\n",
    "    year_adj = year - 1960\n",
    "    plt.plot(ax2[:, year_adj], pred_surf[:, year_adj], color='black')\n",
    "    plt.xlabel('log(GDP)')\n",
    "    plt.ylabel('log(CO$_2$)')\n",
    "    plt.axvspan(quant05[year_adj], quant95[year_adj], facecolor='black', alpha=0.1, label='.05/.95 quantile')\n",
    "    plt.legend(bbox_to_anchor=(1.04,1), borderaxespad=0)    \n",
    "    plt.show()\n",
    "    \n",
    "interact(plot, year=widgets.IntSlider(min=1960, max=2018, step=1, value=2018));"
   ]
  },
  {
   "cell_type": "markdown",
   "metadata": {},
   "source": [
    "Note: Shaded area represent region og highest confidence."
   ]
  }
 ],
 "metadata": {
  "kernelspec": {
   "display_name": "Python 3",
   "language": "python",
   "name": "python3"
  },
  "language_info": {
   "codemirror_mode": {
    "name": "ipython",
    "version": 3
   },
   "file_extension": ".py",
   "mimetype": "text/x-python",
   "name": "python",
   "nbconvert_exporter": "python",
   "pygments_lexer": "ipython3",
   "version": "3.6.10"
  }
 },
 "nbformat": 4,
 "nbformat_minor": 4
}
